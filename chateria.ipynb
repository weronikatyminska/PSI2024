{
  "nbformat": 4,
  "nbformat_minor": 0,
  "metadata": {
    "colab": {
      "provenance": []
    },
    "kernelspec": {
      "name": "python3",
      "display_name": "Python 3"
    },
    "language_info": {
      "name": "python"
    }
  },
  "cells": [
    {
      "cell_type": "markdown",
      "source": [
        "zadanie 1\n",
        "\n",
        "nie wymagają inteligencji:\n",
        "* wypełnianie deklaracji PIT (dostępne są schematy, dzięki którym osoba wypełniająca wie co w danym okienku należy wpisać)\n",
        "* klasyfikacja tekstu do kategorii tematycznych (dzięki słowom kluczowym tworzą się zasady przyporządkowywania)\n",
        "* odpowiadanie na proste pytania w języku naturalnym (na przykładzie small talku np. są pewne schematy prostych odpowiedzi)\n",
        "* symboliczne obliczanie pochodnych funkcji (są ustalone zasady rozwiązywania pochodnych, schematyczne)\n",
        "* symboliczne całkowanie funkcji (znajomość reguł i potrafienie odnajdywania wzorców w celu rozwiązania zadania)\n",
        "\n",
        "wymagają inteligencji:\n",
        "* streszczenie tekstu (tworzymy coś nowego, trzeba wykazać się umiejętnością kreatywnego myślenia)\n",
        "* tłumaczenie tekstu (bardzo często trzeba znać kontekst, tutaj również tworzymy coś kompletnie nowego)\n",
        "* układanie rozkładu jazdy (stworzenie nowego planu tak aby nic ze sobą nie kolidowało)\n",
        "* tworzenie muzyki (jest to akt twórczy, tworzenie czegoś nowego)\n",
        "* prowadzenie samochodu (bezpieczna jazda samochodem wymaga inteligencji, bardzo często pojawiają się sytuacje wyjątkowe, nieschematyczne)\n",
        "\n",
        "zależy:\n",
        "* programowanie (pisanie programów komputerowych) (początkowo programista uczy się schematycznych kodów, jednak wraz ze wzrostem złożoności problemów inteligencja będzie wymagana)\n",
        "* programowanie kanałów telewizyjnych (jest pewien schemat pod kanałęm nr 1 znajuduje sie kanał z 1-ynką w nazwie itd., jednak gdy chodzi o programowanie ramówki na danym kanale trzeba\n",
        "wykorzystywać wiele informacji na raz np. preferencje widzów czy dane dotyczące oglądalności, by stworzyć nowy projekt)\n",
        "* testowanie oprogramowania (testowanie jest to realizowanie odpowiednich scenariuszy i w tym przypadku nie wymaga inteligencji, jednak gdy tester musi wymyślić nowe nieszablonowe\n",
        "scenariusze/ sprawdzić nietypowe reakcje wtedy inteligencja będzie potrzebna)\n",
        "* rozwiązywanie układów równań (zależne od poziomu zaawansowania, proste podstawowe układy równań są bardzo schematyczne, im poziom zaawansowania robi się trudniejszy tym bardziej potrzeba\n",
        "wyjścia ze schematu - użycia inteligencji)\n",
        "\n",
        "zadanie 2\n",
        "\n",
        "* streszczenie tekstu, tłumaczenie tekstu - tak, sztuczna inteligencja (modele językowe) używa technik ptrzetwarzania języka naturalnego, czasem pojawiąją się problemu gdy napotyka słownictwo\n",
        "specjalistyczne lub skomplikowane gramatyczne konstrukcje\n",
        "* klasyfikacja tekstu do kategorii tematycznych - tak, AI ma dostęp do słów kluczowych i kontekstu, może rozpoznawać motywy, algorytmy uczą się na bazie dostępnych już danych\n",
        "* odpowiadanie na proste pytania w języku naturalnym - tak, istnieją chatboty językowe z którymi można prowadzić prostą rozmowę np. cleverbot\n",
        "* rozwiązywanie układu równań - tak, AI jest w stanie wykorzystań algorytmy obliczeniowe by wykonywać zadania tego typu\n",
        "* układanie rozkładu jazdy - tak, AI potrafi uczyć się na gotowych przykładach, dlatego po zaprezentowaniu jej wcześniej stworzonych planów jest w stanie\n",
        "* rozwiązywanie układów równań liniowych, symboliczne obliczanie pochodnych/ całkowanie - nie wymagaja pełnej inteligencji AI, ponieważ nie wymagają przewidywania skutków nieschematycznych sytuacji, rozwiązywanie stosując reguły i algorytmy\n",
        "* kierowanie samochodem - istnieją juz samochody inteligentne samochody, które nie potrzebują kierowcy do jazdy (przez uczenie maszynowe czy analizę obrazu otoczenia)\n",
        "\n",
        "zadanie 3\n",
        "\n",
        "* rozmowa towarzyska - istnieją chatboty językowe z którymi można prowadzić prostą rozmowę np. cleverbot, wyczuwalna jest tam luźna atmosfera, jednak nie nazwałabym tego idealną imitacją\n",
        "* dyskusja polityczna/ dyskusja naukowa - pomimo, że może posiadać informacje na dany temat, ale jako że nie może posiadać własnego stanowiska, nie można powiedzieć że może brać udział w dyskusji (zależne od wykształcenia)\n",
        "* odpowiadanie na pytania klientów w telefonicznej/ internetowej infolinii - AI jest stosowane w centrach obsługi klienta np. w instytucje zdrowotne, jednak jest zaprogramowany na konkretne pytania/odpowiedzi\n",
        "\n",
        "zadanie 4\n",
        "\n",
        "do porównania chatbotów a) udającego człowieka i b) \"asystenta/ służącego\" użyłam cleverbot.com oraz asystenta inpost.pl\n",
        "\n",
        "a) Z Cleverbotem, jako botem symulującym człowieka, można prowadzić przyjazną rozmowę. Wyczuwalny jest nieformalny charakter rozmowy, pojawiają się również literówki w wypowiedziach bota. Wykazuje się on poczuciem humoru\n",
        "i potrafi opowiadać żarty, o które również pyta swojego rozmówcę. Zadaje pytania w celu naturalnego podtrzymania rozmowy (w szczególności często powraca do pytań o cechy takie jak np. imię/płeć, co może wskazywać na próbę\n",
        "przekonania o swoim \"człowieczeństwie\"). Początkowe proste pytania nie sprawiają mu problemu, jednak z wydłużaniem się rozmowy, odpowiedzi coraz bardziej odbiegają od tematu i konwersacja staje się bezcelowa. Sam bardzo\n",
        "często zmienia tor rozmowy i traci wątek. Ma problemy z przytoczeniem cytatów/ wypowiedzi - na zadaną prośbę odpowiada kompletnie nie na temat.\n",
        "\n",
        "b) Bot Asystent zaprogramowany jest na ograniczoną ilość zadań - zależnie od usług strony na której występuje. Rozmowę zaczyna od zaoferowania pomocy i przedstawienia problemów, w których jest w stanie nam pomóc. Wyczuwalna\n",
        "jest bardziej formalna i konkretna atmosfera rozmowy. Odpowiada na niektóre proste pytania np. jak się masz (nadal nawiązując jednak do usług danej strony), opowiada też (jeden, powtarzający się) żart. Nie rozumie odbiegających\n",
        "od jego specjalizacji poleceń - zadaje wtedy pytania dla wyjaśnienia komendy użytkownika. Reaguje na słowa klucze zgodne z zaprogramowanymi tematami. Gdy użytkownik rozpocznie rozmowę na zaproponowany przez niego temat - utrzymuje\n",
        "wątek i rozmowa jest składna. Bot trzyma się swoich określonych zadań. Po zakończonym wątku, sekwencyjnie zadaje pytanie, w czym może jeszcze pomóc. Niestety nie jest w stanie zacytować wypowiedzi.\n",
        "\n",
        "Podsumowując:\n",
        "Boty skonstruowane pod test Turinga, starają się stworzyć iluzję ludzkiego zachowania i rozmowy, reagując na humor i zadając pytania.\n",
        "Natomiast boty \"asystenci\" są bardziej funkcjonalne - skupiają się na rozwiązywaniu danych problemów.\n",
        "\n",
        "Próba zdenerwowania cleverbota nie powiodła się, zawsze miał odpowiedź na wiadomość kierowaną z mojej strony (bardzo często nie na temat).\n"
      ],
      "metadata": {
        "id": "Hy8Zd2JDsuXE"
      }
    }
  ]
}